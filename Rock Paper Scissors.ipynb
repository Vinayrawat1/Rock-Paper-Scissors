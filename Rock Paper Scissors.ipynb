{
 "cells": [
  {
   "cell_type": "markdown",
   "id": "6906d06f",
   "metadata": {},
   "source": [
    "# Rock Paper Scissor"
   ]
  },
  {
   "cell_type": "code",
   "execution_count": 10,
   "id": "6c6f23cf",
   "metadata": {},
   "outputs": [],
   "source": []
  },
  {
   "cell_type": "code",
   "execution_count": 11,
   "id": "66eb1973",
   "metadata": {},
   "outputs": [],
   "source": [
    "import random"
   ]
  },
  {
   "cell_type": "code",
   "execution_count": 12,
   "id": "b327c015",
   "metadata": {},
   "outputs": [],
   "source": [
    "class RockPaperScissors:\n",
    "    def __init__(self):\n",
    "        self.choices = ['rock','paper','scissors']\n",
    "    \n",
    "    def get_user_choice(self):\n",
    "        while True:\n",
    "            user_choice = input(\"Enter you choice from ('rock','paper','scissors') Only!\")\n",
    "            if user_choice in self.choices:\n",
    "                return user_choice\n",
    "            else:\n",
    "                print(\"Invalid choice! please enter your choice again!\")\n",
    "                \n",
    "    def get_computer_choice(self):\n",
    "        computer_choice = random.choice(self.choices)\n",
    "        return computer_choice\n",
    "    \n",
    "    def determine_winner(self,user_choice,computer_choice):\n",
    "        \n",
    "        if user_choice == computer_choice:\n",
    "            return \"It Is Tie\"\n",
    "        elif (user_choice == 'rock' and computer_choice == 'scissors') or (user_choice == 'paper' and computer_choice == 'rock') or (user_choice == 'scissors' and computer_choice == 'paper'):\n",
    "        \n",
    "            return \"You win!\"\n",
    "    \n",
    "        else:\n",
    "            return \"computer wins!\"\n",
    "        \n",
    "    def play_game(self):\n",
    "        \n",
    "        print(\"welcome to Rock Paper and Scissors Game!\")\n",
    "        \n",
    "        while True:\n",
    "            \n",
    "            user_choice = self.get_user_choice()\n",
    "            computer_choice = self.get_computer_choice()\n",
    "            print(\"Your choice is :\", user_choice)\n",
    "            print(\"computer choice is :\", computer_choice)\n",
    "            \n",
    "            result = self.determine_winner(user_choice,computer_choice)\n",
    "            \n",
    "            print(result)\n",
    "            \n",
    "            play_again = input(\"Do you want to play more ? say(yes/no)\")\n",
    "            \n",
    "            if play_again == 'no':\n",
    "                print(\"Okay bye, see you later : \")\n",
    "                break\n",
    "                \n",
    "                \n",
    "    "
   ]
  },
  {
   "cell_type": "code",
   "execution_count": 13,
   "id": "7cf37909",
   "metadata": {},
   "outputs": [],
   "source": [
    "obj1 = RockPaperScissors()"
   ]
  },
  {
   "cell_type": "code",
   "execution_count": 14,
   "id": "1b4ff85d",
   "metadata": {},
   "outputs": [
    {
     "name": "stdout",
     "output_type": "stream",
     "text": [
      "welcome to Rock Paper and Scissors Game!\n",
      "Enter you choice from ('rock','paper','scissors') Only!rock\n",
      "Your choice is : rock\n",
      "computer choice is : scissors\n",
      "You win!\n",
      "Do you want to play more ? say(yes/no)yes\n",
      "Enter you choice from ('rock','paper','scissors') Only!paper\n",
      "Your choice is : paper\n",
      "computer choice is : scissors\n",
      "computer wins!\n",
      "Do you want to play more ? say(yes/no)no\n",
      "Okay bye, see you later : \n"
     ]
    }
   ],
   "source": [
    "obj1.play_game()"
   ]
  },
  {
   "cell_type": "code",
   "execution_count": null,
   "id": "28c68c44",
   "metadata": {},
   "outputs": [],
   "source": []
  },
  {
   "cell_type": "code",
   "execution_count": null,
   "id": "aeb33db2",
   "metadata": {},
   "outputs": [],
   "source": []
  },
  {
   "cell_type": "code",
   "execution_count": null,
   "id": "fc888b95",
   "metadata": {},
   "outputs": [],
   "source": []
  },
  {
   "cell_type": "code",
   "execution_count": null,
   "id": "00e909fa",
   "metadata": {},
   "outputs": [],
   "source": []
  },
  {
   "cell_type": "code",
   "execution_count": null,
   "id": "77cb7093",
   "metadata": {},
   "outputs": [],
   "source": []
  },
  {
   "cell_type": "code",
   "execution_count": null,
   "id": "4ff38929",
   "metadata": {},
   "outputs": [],
   "source": []
  }
 ],
 "metadata": {
  "kernelspec": {
   "display_name": "Python 3 (ipykernel)",
   "language": "python",
   "name": "python3"
  },
  "language_info": {
   "codemirror_mode": {
    "name": "ipython",
    "version": 3
   },
   "file_extension": ".py",
   "mimetype": "text/x-python",
   "name": "python",
   "nbconvert_exporter": "python",
   "pygments_lexer": "ipython3",
   "version": "3.11.5"
  }
 },
 "nbformat": 4,
 "nbformat_minor": 5
}
